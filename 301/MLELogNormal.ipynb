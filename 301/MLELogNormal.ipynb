{
 "cells": [
  {
   "cell_type": "markdown",
   "metadata": {},
   "source": [
    "# MLE for Log-Normal Distribution"
   ]
  },
  {
   "cell_type": "markdown",
   "metadata": {},
   "source": [
    "In this notebook you will perform [maximum likelihood estimation](https://en.wikipedia.org/wiki/Maximum_likelihood), or MLE, for the parameters in the [log-normal](https://en.wikipedia.org/wiki/Log-normal_distribution) distribution and bootstrap the results."
   ]
  },
  {
   "cell_type": "markdown",
   "metadata": {},
   "source": [
    "## Problem description"
   ]
  },
  {
   "cell_type": "markdown",
   "metadata": {},
   "source": [
    "Your exercise is to perform the following steps in this notebook:\n",
    "\n",
    "* Find the probability density function, $P(x \\mid \\theta)$, with $\\theta=\\left[\\mu,\\sigma^2\\right]$, for a single variate on Wikipedia and typeset it into a markdown cell. In that same markdown cell, compose a few sentences that describes the equation and defines all of its symbols.\n",
    "* Work out the log-likelihood, $ln\\mathcal{L}(\\theta \\mid x)$, and typeset it into another markdown cell. In that same markdown cell, compose a few sentences that describes the equation and defines all of its symbols.\n",
    "* For known values of the parameters $\\mu=0.5$ and $\\sigma^2=1.0$, generate an array of `50` random variates.\n",
    "* Make an appropriately labeled Seaborn `distplot` of your dataset.\n",
    "* Write a Python function, `neg_log_llh(theta, data)`, that returns the negative log-likelihood for the full dataset and estimated $\\hat{\\theta}=\\left[\\hat{\\mu},\\hat{\\sigma}^2\\right]$.\n",
    "* Use `interact` to print the value of the negative log-likelihood with one slider each for $\\hat{\\mu}$ and $\\hat{\\sigma}^2$. Find the values of $\\hat{\\mu}$ and $\\hat{\\sigma}^2$ that minimize the negative log-likelihood by simply moving the sliders around. Write some text in a markdown cell that summarizes your findings.\n",
    "* Write a function, `mle(data)`, that uses `scipy.optimize.minimize` to find the estimated parameters $\\hat{\\theta}$ that minimize the negative log-likelihood for the data.\n",
    "* Bootstrap your dataset and compute bootstrapped $\\hat{\\theta}$ distributions. Plot your $\\hat{\\theta}$ distribution using a Seaborn `jointplot`. Be very careful about making this distribution plot, paying close attention to the limits of the plot and outliers.\n",
    "* Follow [PEP8](https://www.python.org/dev/peps/pep-0008/) and write a properly formatted [docstring](https://github.com/numpy/numpy/blob/master/doc/HOWTO_DOCUMENT.rst.txt) for all of your functions.\n",
    "* Add additional markdown cells that describe your code and results."
   ]
  },
  {
   "cell_type": "markdown",
   "metadata": {},
   "source": [
    "## Your solution"
   ]
  },
  {
   "cell_type": "markdown",
   "metadata": {},
   "source": [
    "Here are the known, master parameters to use:"
   ]
  },
  {
   "cell_type": "code",
   "execution_count": 27,
   "metadata": {
    "collapsed": true
   },
   "outputs": [],
   "source": [
    "mu = 0.5\n",
    "sigma2 = 1.0"
   ]
  },
  {
   "cell_type": "markdown",
   "metadata": {
    "collapsed": false
   },
   "source": [
    "$P(x \\mid \\theta)$, with $\\theta=\\left[\\mu,\\sigma^2\\right] $\n",
    "$$ P(x \\mid \\theta) = \\frac{1}{\\sqrt{2 \\pi \\sigma^2}} \\exp{\\left[-\\frac{(x-\\mu)^2}{2 \\sigma^2}\\right]}$$\n",
    "This equation represents a normal distribution where $\\mu$ is the mean, $\\sigma^2$ is the variance, and $e$ is Euler's number."
   ]
  },
  {
   "cell_type": "markdown",
   "metadata": {},
   "source": [
    "$$ ln \\mathcal{L}(\\mu,\\sigma^2 \\mid x) =  - \\frac{1}{2} ln(2 \\pi \\sigma^2) - \\frac{(x-\\mu)^2}{2 \\sigma^2} $$\n",
    "This equation is the log of the probability density function $P(x \\mid \\theta)$, with $\\theta=\\left[\\mu,\\sigma^2\\right] $ shown above. The symbols have the same meaning as described above."
   ]
  },
  {
   "cell_type": "code",
   "execution_count": 28,
   "metadata": {
    "collapsed": false
   },
   "outputs": [],
   "source": [
    "import numpy as np\n",
    "%matplotlib inline\n",
    "from matplotlib import pyplot as plt\n",
    "import seaborn as sns\n",
    "from ipywidgets import interact\n",
    "from scipy.optimize import minimize"
   ]
  },
  {
   "cell_type": "code",
   "execution_count": 29,
   "metadata": {
    "collapsed": false
   },
   "outputs": [],
   "source": [
    "rand_data = np.random.normal(mu,sigma2, 50)"
   ]
  },
  {
   "cell_type": "code",
   "execution_count": 30,
   "metadata": {
    "collapsed": false
   },
   "outputs": [
    {
     "data": {
      "text/plain": [
       "<matplotlib.axes._subplots.AxesSubplot at 0x7f9c293f9780>"
      ]
     },
     "execution_count": 30,
     "metadata": {},
     "output_type": "execute_result"
    },
    {
     "data": {
      "image/png": "[encoded data removed]",
      "text/plain": [
       "<matplotlib.figure.Figure at 0x7f9c29486f28>"
      ]
     },
     "metadata": {},
     "output_type": "display_data"
    }
   ],
   "source": [
    "sns.distplot(rand_data)"
   ]
  },
  {
   "cell_type": "code",
   "execution_count": 31,
   "metadata": {
    "collapsed": true
   },
   "outputs": [],
   "source": [
    "def neg_log_llh(theta, data):\n",
    "    \"\"\"Return the negative log-likelihood for the normal distribution.\n",
    "    \n",
    "    Parameters\n",
    "    ----------\n",
    "    theta: tuple\n",
    "        The parameters [mu, sigma**2] of the normal distribution.\n",
    "    data: ndarra\n",
    "        An array of data points that are being modelled by the normal distribution.\n",
    "    \"\"\"\n",
    "    mu = theta[0]\n",
    "    sigma2 = theta[1]\n",
    "    n = len(data)\n",
    "    result = 0.5*n*np.log(2.0*np.pi*sigma2) + (1.0/(2.0*sigma2))*np.sum((data-mu)**2)\n",
    "    return result"
   ]
  },
  {
   "cell_type": "code",
   "execution_count": 52,
   "metadata": {
    "collapsed": true
   },
   "outputs": [],
   "source": [
    "def print_log_llh(mu, sigma2):\n",
    "    \"\"\"Print the negative log-likelihood for the normal distribution.\n",
    "    \n",
    "    Parameters\n",
    "    ----------\n",
    "    mu: float\n",
    "        Mu of the normal distribution.\n",
    "    sigma2: float\n",
    "        Variance of the normal distribution.\n",
    "    \"\"\"\n",
    "    print(neg_log_llh((mu, sigma2), rand_data))"
   ]
  },
  {
   "cell_type": "code",
   "execution_count": 53,
   "metadata": {
    "collapsed": false
   },
   "outputs": [
    {
     "name": "stdout",
     "output_type": "stream",
     "text": [
      "92.2015835074\n"
     ]
    }
   ],
   "source": [
    "interact(print_log_llh, mu=(-10.0, 10.0, 0.1), sigma2=(0.1, 10.0, 0.1));"
   ]
  },
  {
   "cell_type": "markdown",
   "metadata": {},
   "source": [
    "When mu is 0.6 and sigma2 is 0.9 the negative log-likelihood is minimized and is about 67.0606."
   ]
  },
  {
   "cell_type": "code",
   "execution_count": 59,
   "metadata": {
    "collapsed": true
   },
   "outputs": [],
   "source": [
    "def mle(data):\n",
    "    \"\"\"Find the estimated parameters θ̂ that minimize the negative log-likelihood for the data.\n",
    "    \n",
    "    Parameters\n",
    "    ----------\n",
    "    data: ndarray of tuples\n",
    "        Ndarray of the parameters [mu, sigma**2] of the normal distribution.\n",
    "    \"\"\"\n",
    "    return minimize(lambda theta: neg_log_llh(theta, data), [-2.0, 2.0]).x"
   ]
  },
  {
   "cell_type": "code",
   "execution_count": 62,
   "metadata": {
    "collapsed": false
   },
   "outputs": [
    {
     "data": {
      "text/plain": [
       "<seaborn.axisgrid.JointGrid at 0x7f9c28023da0>"
      ]
     },
     "execution_count": 62,
     "metadata": {},
     "output_type": "execute_result"
    },
    {
     "data": {
      "image/png": "[encoded data removed]",
      "text/plain": [
       "<matplotlib.figure.Figure at 0x7f9c27f75b70>"
      ]
     },
     "metadata": {},
     "output_type": "display_data"
    }
   ],
   "source": [
    "bootstrap = [mle(np.random.choice(rand_data,50)) for i in range(50)]\n",
    "mu = np.array([t[0] for t in bootstrap])\n",
    "sigma = np.array([t[1] for t in bootstrap])\n",
    "sns.jointplot(mu,sigma)"
   ]
  },
  {
   "cell_type": "markdown",
   "metadata": {},
   "source": [
    "## Grading"
   ]
  },
  {
   "cell_type": "markdown",
   "metadata": {},
   "source": [
    "This cell will be used for grading!"
   ]
  }
 ],
 "metadata": {
  "kernelspec": {
   "display_name": "Python 3",
   "language": "python",
   "name": "python3"
  },
  "language_info": {
   "codemirror_mode": {
    "name": "ipython",
    "version": 3
   },
   "file_extension": ".py",
   "mimetype": "text/x-python",
   "name": "python",
   "nbconvert_exporter": "python",
   "pygments_lexer": "ipython3",
   "version": "3.4.3"
  }
 },
 "nbformat": 4,
 "nbformat_minor": 0
}
