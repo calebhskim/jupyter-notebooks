{
 "cells": [
  {
   "cell_type": "markdown",
   "metadata": {},
   "source": [
    "# MLE for Poisson Distribution"
   ]
  },
  {
   "cell_type": "markdown",
   "metadata": {},
   "source": [
    "In this notebook you will perform [maximum likelihood estimation](https://en.wikipedia.org/wiki/Maximum_likelihood), or MLE, for the parameter $\\lambda$ in the [Poisson](https://en.wikipedia.org/wiki/Poisson_distribution) distribution and bootstrap the results."
   ]
  },
  {
   "cell_type": "markdown",
   "metadata": {},
   "source": [
    "## Problem description"
   ]
  },
  {
   "cell_type": "markdown",
   "metadata": {},
   "source": [
    "Your exercise is to perform the following steps in this notebook:\n",
    "\n",
    "* Find the probability density function, $P(k \\mid \\lambda)$ for a single variate on Wikipedia and typeset it into a markdown cell. In that same markdown cell, compose a few sentences that describes the equation and defines all of its symbols.\n",
    "* Work out the log-likelihood $ln\\mathcal{L}(\\lambda \\mid k)$ and typeset it into another markdown cell. In that same markdown cell, compose a few sentences that describes the equation and defines all of its symbols.\n",
    "* Pick master, known values for the parameters $\\theta=\\lambda$ of the distribution and generate an array of `50` random variates using those parameters.\n",
    "* Make an appropriately labeled Seaborn `countplot` of your dataset.\n",
    "* Write a Python function, `neg_log_llh(theta, data)`, that returns the negative log-likelihood for the full dataset and estimated $\\hat{\\theta}=\\hat{\\lambda}$.\n",
    "* Use `interact` to print the value of the negative log-likelihood with a slider for $\\hat{\\lambda}$. Find the value of $\\hat{\\lambda}$ that minimize the negative log-likelihood by simply moving the slider around. Write some text in a markdown cell that summarizes your findings.\n",
    "* Write a function, `mle(data)`, that uses `scipy.optimize.minimize` to find the estimated parameters $\\hat{\\theta}$ that minimize the negative log-likelihood for the data.\n",
    "* Bootstrap your dataset and compute bootstrapped $\\hat{\\theta}$ distributions and 95% confidence intervals. Plot your $\\hat{\\theta}$ distribution using a Seaborn `distplot`.\n",
    "* Follow [PEP8](https://www.python.org/dev/peps/pep-0008/) and write a properly formatted [docstring](https://github.com/numpy/numpy/blob/master/doc/HOWTO_DOCUMENT.rst.txt) for all of your functions.\n",
    "* Add additional markdown cells that describe your code and results."
   ]
  },
  {
   "cell_type": "markdown",
   "metadata": {},
   "source": [
    "## Your solution"
   ]
  },
  {
   "cell_type": "markdown",
   "metadata": {},
   "source": [
    "$P(k \\mid \\lambda) = \\frac{\\lambda^k e^{-\\lambda}}{k!}$"
   ]
  },
  {
   "cell_type": "markdown",
   "metadata": {},
   "source": [
    "The average number of events in an interval is designated  \\lambda  (lambda). Lambda is the event rate, also called the rate parameter. The probability of observing k events in an interval is given by the equation"
   ]
  },
  {
   "cell_type": "markdown",
   "metadata": {},
   "source": [
    "$ln\\mathcal{L}(\\lambda \\mid k) = ln(\\lambda^k e ^ {-\\lambda}) - ln(k!)$"
   ]
  },
  {
   "cell_type": "markdown",
   "metadata": {},
   "source": [
    "$ln\\mathcal{L}(\\lambda \\mid k) = \\sum\\limits^n_{i=1}x_i \\text{ log }\\lambda-n\\lambda$"
   ]
  },
  {
   "cell_type": "code",
   "execution_count": 38,
   "metadata": {
    "collapsed": true
   },
   "outputs": [],
   "source": [
    "import numpy as np\n",
    "%matplotlib inline\n",
    "from matplotlib import pyplot as plt\n",
    "import seaborn as sns\n",
    "from ipywidgets import interact\n",
    "from scipy.optimize import minimize\n",
    "import math"
   ]
  },
  {
   "cell_type": "code",
   "execution_count": 39,
   "metadata": {
    "collapsed": false
   },
   "outputs": [
    {
     "name": "stdout",
     "output_type": "stream",
     "text": [
      "[2 1 0 2 0 1 0 1 0 0 1 0 1 2 1 0 0 1 0 0 2 0 1 1 1 0 1 2 0 0 2 0 1 1 1 1 0\n",
      " 1 1 0 2 1 3 2 2 1 1 0 0 1]\n"
     ]
    }
   ],
   "source": [
    "lam = 1.0\n",
    "n = 50\n",
    "rand_data = np.random.poisson(lam, size=n)\n",
    "print(rand_data)"
   ]
  },
  {
   "cell_type": "code",
   "execution_count": 40,
   "metadata": {
    "collapsed": false
   },
   "outputs": [
    {
     "data": {
      "text/plain": [
       "<matplotlib.axes._subplots.AxesSubplot at 0x7f89d4ee0be0>"
      ]
     },
     "execution_count": 40,
     "metadata": {},
     "output_type": "execute_result"
    },
    {
     "data": {
      "image/png": "[encoded data removed]",
      "text/plain": [
       "<matplotlib.figure.Figure at 0x7f89d4fef6a0>"
      ]
     },
     "metadata": {},
     "output_type": "display_data"
    }
   ],
   "source": [
    "sns.countplot(rand_data)"
   ]
  },
  {
   "cell_type": "code",
   "execution_count": 47,
   "metadata": {
    "collapsed": false
   },
   "outputs": [],
   "source": [
    "def neg_log_llh(lam, data):\n",
    "    \"\"\"Return the negative log-likelihood for the poisson distribution.\n",
    "    \n",
    "    Parameters\n",
    "    ----------\n",
    "    lam: float\n",
    "        The lambda parameter of the poisson distribution.\n",
    "    data: ndarray\n",
    "        An array of data points that are being modelled by the poisson distribution.\n",
    "    \"\"\"\n",
    "    n = len(data)\n",
    "    #result = -1 * sum(data) * np.log(lam) - n * lam\n",
    "    result = sum([-1 * np.log(lam ** k * np.e ** (-lam)) - np.log(math.factorial(k)) for k in data])\n",
    "    return result"
   ]
  },
  {
   "cell_type": "code",
   "execution_count": 48,
   "metadata": {
    "collapsed": true
   },
   "outputs": [],
   "source": [
    "def print_log_llh(lam):\n",
    "    \"\"\"Print the negative log-likelihood for the poisson distribution.\n",
    "    \n",
    "    Parameters\n",
    "    ----------\n",
    "    lam: float\n",
    "        Lambda of the poisson distribution.\n",
    "\n",
    "    \"\"\"\n",
    "    print(neg_log_llh(lam, rand_data))"
   ]
  },
  {
   "cell_type": "code",
   "execution_count": 49,
   "metadata": {
    "collapsed": false
   },
   "outputs": [
    {
     "name": "stdout",
     "output_type": "stream",
     "text": [
      "170.222037291\n"
     ]
    }
   ],
   "source": [
    "interact(print_log_llh, lam=(0.0,10.0, 0.1));"
   ]
  },
  {
   "cell_type": "markdown",
   "metadata": {},
   "source": [
    "A lambda value of 0.3 will give the minimized negative log."
   ]
  },
  {
   "cell_type": "code",
   "execution_count": 50,
   "metadata": {
    "collapsed": true
   },
   "outputs": [],
   "source": [
    "def mle(data):\n",
    "    \"\"\"Find the estimated parameters lambda that minimize the negative log-likelihood for the data.\n",
    "    \n",
    "    Parameters\n",
    "    ----------\n",
    "    data: ndarray of integers\n",
    "        Ndarray of the parameters of the poisson distribution.\n",
    "    \"\"\"\n",
    "    return minimize(lambda lam: neg_log_llh(lam, data), [0.2]).x"
   ]
  },
  {
   "cell_type": "code",
   "execution_count": 58,
   "metadata": {
    "collapsed": false
   },
   "outputs": [
    {
     "name": "stdout",
     "output_type": "stream",
     "text": [
      "Confidence Interval 0.56049001232 0.579110002829\n"
     ]
    },
    {
     "data": {
      "image/png": "[encoded data removed]",
      "text/plain": [
       "<matplotlib.figure.Figure at 0x7f89d4a2d4a8>"
      ]
     },
     "metadata": {},
     "output_type": "display_data"
    }
   ],
   "source": [
    "bootstrap = [mle(np.random.choice(rand_data,50)) for i in range(50)]\n",
    "d = np.array([i[0] for i in bootstrap])\n",
    "sns.distplot(d);\n",
    "print(\"Confidence Interval\", np.percentile(d, .025), np.percentile(d, .975))"
   ]
  },
  {
   "cell_type": "markdown",
   "metadata": {},
   "source": [
    "## Grading"
   ]
  },
  {
   "cell_type": "markdown",
   "metadata": {
    "deletable": false,
    "nbgrader": {
     "checksum": "56c334d48d7e4f4774d4ec0ae0711346",
     "grade": true,
     "grade_id": "mlepoisson-a",
     "locked": false,
     "points": 10,
     "solution": true
    }
   },
   "source": [
    "YOUR ANSWER HERE"
   ]
  }
 ],
 "metadata": {
  "kernelspec": {
   "display_name": "Python 3",
   "language": "python",
   "name": "python3"
  },
  "language_info": {
   "codemirror_mode": {
    "name": "ipython",
    "version": 3
   },
   "file_extension": ".py",
   "mimetype": "text/x-python",
   "name": "python",
   "nbconvert_exporter": "python",
   "pygments_lexer": "ipython3",
   "version": "3.4.3"
  }
 },
 "nbformat": 4,
 "nbformat_minor": 0
}
