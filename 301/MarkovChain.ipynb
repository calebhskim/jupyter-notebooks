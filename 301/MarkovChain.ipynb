{
 "cells": [
  {
   "cell_type": "markdown",
   "metadata": {},
   "source": [
    "# Markov Chain"
   ]
  },
  {
   "cell_type": "markdown",
   "metadata": {},
   "source": [
    "**Learning Objectives:** Learn how to build Markov Chains from n-grams and generate new sequences from the Markov Chains."
   ]
  },
  {
   "cell_type": "code",
   "execution_count": 1,
   "metadata": {
    "collapsed": true
   },
   "outputs": [],
   "source": [
    "import types\n",
    "from itertools import islice\n",
    "import random"
   ]
  },
  {
   "cell_type": "markdown",
   "metadata": {},
   "source": [
    "## n-grams"
   ]
  },
  {
   "cell_type": "markdown",
   "metadata": {},
   "source": [
    "You can read about the background information related to n-grams [here](https://en.wikipedia.org/wiki/N-gram). Write a function, `build_ngrams`, that returns n-grams from an input sequene (iterator). Try to do this without concrete lists. The `islice` function may be helpful."
   ]
  },
  {
   "cell_type": "code",
   "execution_count": 2,
   "metadata": {
    "collapsed": false,
    "deletable": false,
    "nbgrader": {
     "checksum": "91e898737a49eccfcddb1b81a5dc0081",
     "grade": false,
     "grade_id": "markovchaina",
     "locked": false,
     "solution": true
    }
   },
   "outputs": [],
   "source": [
    "def build_ngrams(itr, n=2):\n",
    "    \"\"\"Return the sequence of n-grams from the source iterator.\"\"\"\n",
    "    for ndx, i in enumerate(itr):\n",
    "        if ndx <= len(itr) - n:\n",
    "            yield(tuple(islice(itr, ndx, ndx+n)))"
   ]
  },
  {
   "cell_type": "code",
   "execution_count": 3,
   "metadata": {
    "collapsed": false,
    "deletable": false,
    "nbgrader": {
     "checksum": "d5e2a40b50b1497822c07250c20e79fb",
     "grade": true,
     "grade_id": "markovchainb",
     "locked": true,
     "points": 4,
     "solution": false
    }
   },
   "outputs": [],
   "source": [
    "a = build_ngrams(range(10), n=2)\n",
    "assert hasattr(a, '__iter__') and not isinstance(a, list)\n",
    "al = list(a)\n",
    "assert al == [(i,i+1) for i in range(9)]\n",
    "\n",
    "b = build_ngrams(range(10), n=5)\n",
    "assert hasattr(b, '__iter__') and not isinstance(b, list)\n",
    "bl = list(b)\n",
    "assert bl == [(i,i+1,i+2,i+3,i+4) for i in range(6)]\n",
    "\n",
    "assert list(build_ngrams('one two three four five six seven'.split(' '), n=5)) == \\\n",
    "    [('one','two','three','four','five'),\n",
    "     ('two','three','four','five','six'),\n",
    "     ('three','four','five','six','seven')]"
   ]
  },
  {
   "cell_type": "markdown",
   "metadata": {},
   "source": [
    "## Markov chain"
   ]
  },
  {
   "cell_type": "markdown",
   "metadata": {},
   "source": [
    "You can read about the background of Markov Chains [here](https://en.wikipedia.org/wiki/Markov_chain). Write a function `build_chain`, that returns a Markov Chain for a sequence of n-grams. This function should return a `dict` with:\n",
    "\n",
    "* The keys will be the source node in the Markov Chain, which is the first `n-1` elements in each n-gram, as a `tuple`.\n",
    "* The values will be a *list* of possible targets in the Markov Chain. As you find new values for a single key, you will need to append to the list."
   ]
  },
  {
   "cell_type": "code",
   "execution_count": 4,
   "metadata": {
    "collapsed": true,
    "deletable": false,
    "nbgrader": {
     "checksum": "81db0d592629e73d52ebe4212ed7873f",
     "grade": false,
     "grade_id": "markovchainc",
     "locked": false,
     "solution": true
    }
   },
   "outputs": [],
   "source": [
    "def build_chain(ngrams, chain=None):\n",
    "    \"\"\"Build a Markov chain out of an iterator of n-grams.\n",
    "    \n",
    "    Parameters\n",
    "    ----------\n",
    "    ngrams: list of n-tuples\n",
    "        A list of n-grams as tuples, where the first n-1 elements are the source node\n",
    "        in the Markov chain ahd the last element is the target node in the Markov chain.\n",
    "    chain: dict or None\n",
    "        An existing Markov chain to add ngrams to or None for a new chain.\n",
    "    \"\"\"\n",
    "    if not chain:\n",
    "        chain = {}\n",
    "    for gram in ngrams:\n",
    "        current = gram[0:-1]\n",
    "        last = gram[-1]\n",
    "        if current not in chain:\n",
    "            chain[current] = [last]\n",
    "        else:\n",
    "            chain[current].append(last)\n",
    "    return chain"
   ]
  },
  {
   "cell_type": "code",
   "execution_count": 5,
   "metadata": {
    "collapsed": false,
    "deletable": false,
    "nbgrader": {
     "checksum": "cdc2c5a4d76be2333c46c36d3434a42b",
     "grade": true,
     "grade_id": "markovchaind",
     "locked": true,
     "points": 4,
     "solution": false
    }
   },
   "outputs": [],
   "source": [
    "random.seed(0)\n",
    "seq1 = [random.randint(0,10) for i in range(200)]\n",
    "chain = build_chain(build_ngrams(seq1, n=3))\n",
    "seq2 = [random.randint(0,10) for i in range(200)]\n",
    "chain = build_chain(build_ngrams(seq2, n=3), chain=chain)\n",
    "assert chain[(0,0)]==[7, 10, 0, 3, 4]\n",
    "assert chain[(4,2)]==[1, 3, 8, 3, 7, 1, 10, 2, 8]\n",
    "assert len(chain.keys())==111"
   ]
  },
  {
   "cell_type": "markdown",
   "metadata": {},
   "source": [
    "Write a function, `generate_sequence`, that can generate new sequences of length `m` from a trained Markov Chain (in the `dict` format described above). For the initial part of the sequence, randomly choose one of the keys in the Markov Chain `dict`."
   ]
  },
  {
   "cell_type": "code",
   "execution_count": 6,
   "metadata": {
    "collapsed": false,
    "deletable": false,
    "nbgrader": {
     "checksum": "c6a6198595980de73f730a79952898e9",
     "grade": false,
     "grade_id": "markovchaine",
     "locked": false,
     "solution": true
    }
   },
   "outputs": [],
   "source": [
    "import random\n",
    "\n",
    "def generate_sequence(chain, m):\n",
    "    \"\"\"Generate a new sequence of length n from a Markov chain.\n",
    "    \n",
    "    Parameter\n",
    "    ---------\n",
    "    chain : dict\n",
    "        A dict where the keys are the source node of the Markov chain steps and\n",
    "        the values are a list of possible targets.\n",
    "    m : int\n",
    "        The length of the sequence to generate.\n",
    "    \"\"\"\n",
    "    start = random.choice(list(chain.keys()))\n",
    "    for w in start:\n",
    "        yield w\n",
    "    for i in range(m - len(start)):\n",
    "        n = random.choice(chain[start])\n",
    "        yield n\n",
    "        start = (start[1:]) + (n,)"
   ]
  },
  {
   "cell_type": "code",
   "execution_count": 7,
   "metadata": {
    "collapsed": false,
    "deletable": false,
    "nbgrader": {
     "checksum": "faa5f8bc8e07683354c2b6acb23d4f45",
     "grade": true,
     "grade_id": "markovchainf",
     "locked": true,
     "points": 4,
     "solution": false
    },
    "scrolled": true
   },
   "outputs": [],
   "source": [
    "random.seed(0)\n",
    "seq3 = [random.randint(0,10) for i in range(200)]\n",
    "chain2 = build_chain(build_ngrams(seq1, n=3))\n",
    "assert list(generate_sequence(chain2, 10))==[8, 0, 1, 8, 10, 6, 8, 4, 8, 9]\n",
    "chain3 = build_chain(build_ngrams(seq1, n=5))\n",
    "assert list(generate_sequence(chain3, 10))==[4, 1, 8, 5, 8, 3, 9, 8, 9, 4]"
   ]
  },
  {
   "cell_type": "markdown",
   "metadata": {},
   "source": [
    "## Scrape the web to find lyrics"
   ]
  },
  {
   "cell_type": "markdown",
   "metadata": {},
   "source": [
    "For this part of the exercise, you will need to find lyrics from one of your favorite bands, and use the [requests](http://docs.python-requests.org/en/latest/) and [BeautifulSoup](http://www.crummy.com/software/BeautifulSoup/bs4/doc/) packages to scrape the lyrics from a website. Some guidance:\n",
    "\n",
    "1. The more songs the better (many dozens).\n",
    "2. No hand downloading or editing of the files, you must do everything from code.\n",
    "3. Save all of the lyrics in a single text file in this directory.\n",
    "\n",
    "I provide an example here of doing this for all of U2's lyrics. You will have to modify this code significantly for the band of your choice."
   ]
  },
  {
   "cell_type": "code",
   "execution_count": 8,
   "metadata": {
    "collapsed": false
   },
   "outputs": [],
   "source": [
    "import requests\n",
    "from bs4 import BeautifulSoup"
   ]
  },
  {
   "cell_type": "markdown",
   "metadata": {},
   "source": [
    "First get the page that has an index of all the lyrics and create a list of the URLs of those pages:"
   ]
  },
  {
   "cell_type": "code",
   "execution_count": 9,
   "metadata": {
    "collapsed": false
   },
   "outputs": [],
   "source": [
    "def get_lyric_urls():\n",
    "    index = requests.get(\"http://www.lyricsfreak.com/e/erasure/\")\n",
    "    soup = BeautifulSoup(index.text, 'html.parser')\n",
    "    lyric_paths = [link.get('href') for link in soup.find_all('table')[1].find_all('a')]\n",
    "    lyric_urls = ['http://www.lyricsfreak.com'+path for path in lyric_paths]\n",
    "    return lyric_urls"
   ]
  },
  {
   "cell_type": "code",
   "execution_count": 10,
   "metadata": {
    "collapsed": false
   },
   "outputs": [],
   "source": [
    "lyric_urls = get_lyric_urls()[3:]"
   ]
  },
  {
   "cell_type": "code",
   "execution_count": 11,
   "metadata": {
    "collapsed": false
   },
   "outputs": [],
   "source": [
    "lyric_urls.remove('http://www.lyricsfreak.com/e/erasure/the+soldiers+return_20050868.html')\n",
    "lyric_urls.remove('http://www.lyricsfreak.com/e/erasure/runaround+on+the+underground_20050862.html')"
   ]
  },
  {
   "cell_type": "markdown",
   "metadata": {},
   "source": [
    "Here is a function that takes the URL of a single lyric page and scrapes the actual lyric as text:"
   ]
  },
  {
   "cell_type": "code",
   "execution_count": 12,
   "metadata": {
    "collapsed": false
   },
   "outputs": [],
   "source": [
    "def get_lyric(url):\n",
    "    r = requests.get(url)\n",
    "    soup = BeautifulSoup(r.text, 'html.parser')\n",
    "    return str(soup.find_all(id=\"content_h\")[0])"
   ]
  },
  {
   "cell_type": "markdown",
   "metadata": {},
   "source": [
    "This gets all of the lyrics. Note the `time.sleep(1.0)`. When scraping websites, it is often important to throttle your requests so as to not get banned from the website."
   ]
  },
  {
   "cell_type": "code",
   "execution_count": 13,
   "metadata": {
    "collapsed": true
   },
   "outputs": [],
   "source": [
    "import time\n",
    "\n",
    "def get_all_lyrics(lyric_urls):\n",
    "    for url in lyric_urls:\n",
    "        time.sleep(1.0)\n",
    "        yield get_lyric(url)"
   ]
  },
  {
   "cell_type": "code",
   "execution_count": 14,
   "metadata": {
    "collapsed": false
   },
   "outputs": [
    {
     "ename": "KeyboardInterrupt",
     "evalue": "",
     "output_type": "error",
     "traceback": [
      "\u001b[1;31m---------------------------------------------------------------------------\u001b[0m",
      "\u001b[1;31mKeyboardInterrupt\u001b[0m                         Traceback (most recent call last)",
      "\u001b[1;32m<ipython-input-14-4d989a642a8d>\u001b[0m in \u001b[0;36m<module>\u001b[1;34m()\u001b[0m\n\u001b[1;32m----> 1\u001b[1;33m \u001b[0mlyrics\u001b[0m \u001b[1;33m=\u001b[0m \u001b[0mlist\u001b[0m\u001b[1;33m(\u001b[0m\u001b[0mget_all_lyrics\u001b[0m\u001b[1;33m(\u001b[0m\u001b[0mlyric_urls\u001b[0m\u001b[1;33m)\u001b[0m\u001b[1;33m)\u001b[0m\u001b[1;33m\u001b[0m\u001b[0m\n\u001b[0m",
      "\u001b[1;32m<ipython-input-13-be57632ba0d1>\u001b[0m in \u001b[0;36mget_all_lyrics\u001b[1;34m(lyric_urls)\u001b[0m\n\u001b[0;32m      3\u001b[0m \u001b[1;32mdef\u001b[0m \u001b[0mget_all_lyrics\u001b[0m\u001b[1;33m(\u001b[0m\u001b[0mlyric_urls\u001b[0m\u001b[1;33m)\u001b[0m\u001b[1;33m:\u001b[0m\u001b[1;33m\u001b[0m\u001b[0m\n\u001b[0;32m      4\u001b[0m     \u001b[1;32mfor\u001b[0m \u001b[0murl\u001b[0m \u001b[1;32min\u001b[0m \u001b[0mlyric_urls\u001b[0m\u001b[1;33m:\u001b[0m\u001b[1;33m\u001b[0m\u001b[0m\n\u001b[1;32m----> 5\u001b[1;33m         \u001b[0mtime\u001b[0m\u001b[1;33m.\u001b[0m\u001b[0msleep\u001b[0m\u001b[1;33m(\u001b[0m\u001b[1;36m1.0\u001b[0m\u001b[1;33m)\u001b[0m\u001b[1;33m\u001b[0m\u001b[0m\n\u001b[0m\u001b[0;32m      6\u001b[0m         \u001b[1;32myield\u001b[0m \u001b[0mget_lyric\u001b[0m\u001b[1;33m(\u001b[0m\u001b[0murl\u001b[0m\u001b[1;33m)\u001b[0m\u001b[1;33m\u001b[0m\u001b[0m\n",
      "\u001b[1;31mKeyboardInterrupt\u001b[0m: "
     ]
    }
   ],
   "source": [
    "lyrics = list(get_all_lyrics(lyric_urls))"
   ]
  },
  {
   "cell_type": "code",
   "execution_count": null,
   "metadata": {
    "collapsed": false
   },
   "outputs": [],
   "source": [
    "clean = [BeautifulSoup(str(lyric).replace('<br>', '\\n'), \"html.parser\") for lyric in lyrics]    "
   ]
  },
  {
   "cell_type": "markdown",
   "metadata": {},
   "source": [
    "Now save all the lyrics to a text file:"
   ]
  },
  {
   "cell_type": "code",
   "execution_count": null,
   "metadata": {
    "collapsed": false
   },
   "outputs": [],
   "source": [
    "with open('all_erasure_lyrics.txt', 'w') as f:\n",
    "    for l in clean:\n",
    "        e = l.getText()\n",
    "        f.write(e)\n",
    "        f.write('\\n')"
   ]
  },
  {
   "cell_type": "markdown",
   "metadata": {},
   "source": [
    "Leave the following cell to grade your code for this section:"
   ]
  },
  {
   "cell_type": "code",
   "execution_count": null,
   "metadata": {
    "collapsed": true,
    "deletable": false,
    "nbgrader": {
     "checksum": "f889417210aa361e68fb66b457e7c256",
     "grade": true,
     "grade_id": "markovchaing",
     "locked": true,
     "points": 4,
     "solution": false
    }
   },
   "outputs": [],
   "source": [
    "assert True"
   ]
  },
  {
   "cell_type": "markdown",
   "metadata": {},
   "source": [
    "## Generate new lyrics with the Markov chain"
   ]
  },
  {
   "cell_type": "markdown",
   "metadata": {},
   "source": [
    "Here is the fun part!"
   ]
  },
  {
   "cell_type": "code",
   "execution_count": 15,
   "metadata": {
    "collapsed": true
   },
   "outputs": [],
   "source": [
    "import textwrap"
   ]
  },
  {
   "cell_type": "markdown",
   "metadata": {},
   "source": [
    "Here are some simple function for tokenizing the lyrics:"
   ]
  },
  {
   "cell_type": "code",
   "execution_count": 16,
   "metadata": {
    "collapsed": false
   },
   "outputs": [],
   "source": [
    "from quicktoken import tokenize_lines, tokenize_line"
   ]
  },
  {
   "cell_type": "markdown",
   "metadata": {},
   "source": [
    "Read in your lyric file, tokenize the text (no stop words!) and generate new song lyrics. Some things to think about:\n",
    "\n",
    "* This will work best if you generate new lines of text of some finite length (10-30 words).\n",
    "* Use `textwrap.wrap` to format these lines and separate them using newlines.\n",
    "* To get interesting results, you may need to run it multiple times."
   ]
  },
  {
   "cell_type": "code",
   "execution_count": 17,
   "metadata": {
    "collapsed": false,
    "deletable": false,
    "nbgrader": {
     "checksum": "dcee0be047fd121f6d9718b809f5538a",
     "grade": true,
     "grade_id": "markovchainh",
     "locked": false,
     "points": 4,
     "solution": true
    }
   },
   "outputs": [],
   "source": [
    "def file_to_lines(file):\n",
    "    \"\"\"Iterator over a sequence of filenames, yielding all of the lines in the files.\"\"\"\n",
    "    with open(file, 'r') as text:\n",
    "        for l in text:\n",
    "            yield(l)"
   ]
  },
  {
   "cell_type": "code",
   "execution_count": 18,
   "metadata": {
    "collapsed": false
   },
   "outputs": [],
   "source": [
    "c = build_chain(build_ngrams(list(tokenize_lines(file_to_lines('all_erasure_lyrics.txt'))), n=3))"
   ]
  },
  {
   "cell_type": "code",
   "execution_count": 21,
   "metadata": {
    "collapsed": false
   },
   "outputs": [
    {
     "name": "stdout",
     "output_type": "stream",
     "text": [
      "[\"ooh sometimes it's the last\", 'dance searching for your heart', 'oh that i want to break that', \"heart of mine for keeps i'm\", 'trying to hold you back here', 'in']\n",
      "['it tonight chorus wave goodbye', \"lost for you mon amour what's\", 'a boy in the air can you feel', 'joy can you really mean it and', 'feel the tear drops']\n",
      "['lot we depend on a brave face', 'but it means to me i will try', 'to go down to you you hold', \"your head what's on your knees\", 'and then']\n",
      "['the cannon fire lost voices', 'echo in the eyes of blue what', \"you say don't go beating me\", 'like you do with the joys of', 'spring no love is too']\n",
      "['over a new morality make some', 'improvement on the shore then', 'rolls out to me angel talk', 'with me play with me time with', 'me and my love go with']\n"
     ]
    }
   ],
   "source": [
    "for i in range(5):\n",
    "    print(textwrap.wrap(' '.join(generate_sequence(c,30)), 30))"
   ]
  },
  {
   "cell_type": "code",
   "execution_count": null,
   "metadata": {
    "collapsed": true
   },
   "outputs": [],
   "source": []
  }
 ],
 "metadata": {
  "kernelspec": {
   "display_name": "Python 3",
   "language": "python",
   "name": "python3"
  },
  "language_info": {
   "codemirror_mode": {
    "name": "ipython",
    "version": 3
   },
   "file_extension": ".py",
   "mimetype": "text/x-python",
   "name": "python",
   "nbconvert_exporter": "python",
   "pygments_lexer": "ipython3",
   "version": "3.4.3"
  }
 },
 "nbformat": 4,
 "nbformat_minor": 0
}
