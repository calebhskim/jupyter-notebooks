{
 "cells": [
  {
   "cell_type": "markdown",
   "metadata": {
    "nbgrader": {}
   },
   "source": [
    "# Optimization and the Hat Potential"
   ]
  },
  {
   "cell_type": "markdown",
   "metadata": {
    "nbgrader": {}
   },
   "source": [
    "## Imports"
   ]
  },
  {
   "cell_type": "code",
   "execution_count": 24,
   "metadata": {
    "collapsed": true,
    "nbgrader": {}
   },
   "outputs": [],
   "source": [
    "%matplotlib inline\n",
    "import matplotlib.pyplot as plt\n",
    "import numpy as np\n",
    "import scipy.optimize as opt"
   ]
  },
  {
   "cell_type": "markdown",
   "metadata": {
    "nbgrader": {}
   },
   "source": [
    "## Hat potential"
   ]
  },
  {
   "cell_type": "markdown",
   "metadata": {
    "nbgrader": {}
   },
   "source": [
    "The following potential is often used in Physics and other fields to describe symmetry breaking and is often known as the \"hat potential\":\n",
    "\n",
    "$$ V(x) = -a x^2 + b x^4 $$\n",
    "\n",
    "Write a function `hat(x,a,b)` that returns the value of this function:"
   ]
  },
  {
   "cell_type": "code",
   "execution_count": 25,
   "metadata": {
    "collapsed": true,
    "deletable": false,
    "nbgrader": {
     "checksum": "2cbcf41ff21636aea90ae28548cf047f",
     "grade_id": "hatpotential-a",
     "solution": true
    }
   },
   "outputs": [],
   "source": [
    "# YOUR CODE HERE\n",
    "def hat(x,a,b):\n",
    "    return -1 * a * (x ** 2) + b * x ** 4"
   ]
  },
  {
   "cell_type": "code",
   "execution_count": 26,
   "metadata": {
    "collapsed": true,
    "deletable": false,
    "nbgrader": {
     "checksum": "d90952b60036776b62cf244051c905be",
     "grade": true,
     "grade_id": "hatpotential-b",
     "points": 2
    }
   },
   "outputs": [],
   "source": [
    "assert hat(0.0, 1.0, 1.0)==0.0\n",
    "assert hat(0.0, 1.0, 1.0)==0.0\n",
    "assert hat(1.0, 10.0, 1.0)==-9.0"
   ]
  },
  {
   "cell_type": "markdown",
   "metadata": {
    "nbgrader": {}
   },
   "source": [
    "Plot this function over the range $x\\in\\left[-3,3\\right]$ with $b=1.0$ and $a=5.0$:"
   ]
  },
  {
   "cell_type": "code",
   "execution_count": 54,
   "metadata": {
    "collapsed": true,
    "nbgrader": {}
   },
   "outputs": [],
   "source": [
    "a = 5.0\n",
    "b = 1.0"
   ]
  },
  {
   "cell_type": "code",
   "execution_count": 56,
   "metadata": {
    "collapsed": false,
    "deletable": false,
    "nbgrader": {
     "checksum": "71c081d03c2a22475ae9fffd06dfe802",
     "grade": true,
     "grade_id": "hatpotential-c",
     "locked": false,
     "points": 2,
     "solution": true
    }
   },
   "outputs": [
    {
     "data": {
      "text/plain": [
       "[<matplotlib.lines.Line2D at 0x7f4575ab5668>]"
      ]
     },
     "execution_count": 56,
     "metadata": {},
     "output_type": "execute_result"
    },
    {
     "data": {
      "image/png": "[encoded data removed]",
      "text/plain": [
       "<matplotlib.figure.Figure at 0x7f4575924710>"
      ]
     },
     "metadata": {},
     "output_type": "display_data"
    }
   ],
   "source": [
    "# YOUR CODE HERE\n",
    "x = np.linspace(-3,3)\n",
    "y = hat(x,a,b)\n",
    "plt.plot(x, y)"
   ]
  },
  {
   "cell_type": "markdown",
   "metadata": {
    "nbgrader": {}
   },
   "source": [
    "Write code that finds the two local minima of this function for $b=1.0$ and $a=5.0$.\n",
    "\n",
    "* Use `scipy.optimize.minimize` to find the minima. You will have to think carefully about how to get this function to find both minima.\n",
    "* Print the x values of the minima.\n",
    "* Plot the function as a blue line.\n",
    "* On the same axes, show the minima as red circles.\n",
    "* Customize and label your visualization to make it effective."
   ]
  },
  {
   "cell_type": "code",
   "execution_count": 66,
   "metadata": {
    "collapsed": false,
    "deletable": false,
    "nbgrader": {
     "checksum": "ebdebdd266e88049eed55c3b2f45b010",
     "grade": true,
     "grade_id": "hatpotential-d",
     "locked": false,
     "points": 2,
     "solution": true
    }
   },
   "outputs": [
    {
     "name": "stdout",
     "output_type": "stream",
     "text": [
      "Minima [ 1.58115234] [-1.58115234]\n"
     ]
    },
    {
     "data": {
      "text/plain": [
       "[<matplotlib.lines.Line2D at 0x7f4575aaf518>]"
      ]
     },
     "execution_count": 66,
     "metadata": {},
     "output_type": "execute_result"
    },
    {
     "data": {
      "image/png": "[encoded data removed]",
      "text/plain": [
       "<matplotlib.figure.Figure at 0x7f45759b1f98>"
      ]
     },
     "metadata": {},
     "output_type": "display_data"
    }
   ],
   "source": [
    "# YOUR CODE HERE\n",
    "x0 = [3]\n",
    "minima1 = opt.minimize(hat, x0, args=(a,b), method='nelder-mead').x\n",
    "x0 = [-3]\n",
    "minima2 = opt.minimize(hat, x0, args=(a,b), method='nelder-mead').x\n",
    "print(\"Minima\", minima1, minima2)\n",
    "plt.plot(x, y)\n",
    "plt.plot(minima1, hat(minima1,a,b), 'ro')\n",
    "plt.plot(minima2, hat(minima2,a,b), 'ro')"
   ]
  },
  {
   "cell_type": "markdown",
   "metadata": {
    "nbgrader": {}
   },
   "source": [
    "To check your numerical results, find the locations of the minima analytically. Show and describe the steps in your derivation using LaTeX equations. Evaluate the location of the minima using the above parameters."
   ]
  },
  {
   "cell_type": "markdown",
   "metadata": {
    "deletable": false,
    "nbgrader": {
     "checksum": "0e9553a5cc6e5ad26549307ecf2076db",
     "grade": true,
     "grade_id": "hatpotential-e",
     "points": 2,
     "solution": true
    }
   },
   "source": [
    "$$ V(x) = -a x^2 + b x^4 $$\n",
    "$$ a = 5.0 $$\n",
    "$$ b = 1.0 $$\n",
    "$$ V'(x) = -10x + 4x^3 $$\n",
    "$$ V'(x) = x (4x^2 - 10) $$\n",
    "$$ V'(x) = 0 $$\n",
    "$$ x = 0 $$\n",
    "$$  x =\\pm \\sqrt{2.5} \\ $$\n",
    "$$ minima\\ at \\ x =\\pm \\sqrt{2.5} \\ $$"
   ]
  },
  {
   "cell_type": "code",
   "execution_count": null,
   "metadata": {
    "collapsed": true
   },
   "outputs": [],
   "source": []
  }
 ],
 "metadata": {
  "kernelspec": {
   "display_name": "Python 3",
   "language": "python",
   "name": "python3"
  },
  "language_info": {
   "codemirror_mode": {
    "name": "ipython",
    "version": 3
   },
   "file_extension": ".py",
   "mimetype": "text/x-python",
   "name": "python",
   "nbconvert_exporter": "python",
   "pygments_lexer": "ipython3",
   "version": "3.4.3"
  }
 },
 "nbformat": 4,
 "nbformat_minor": 0
}
